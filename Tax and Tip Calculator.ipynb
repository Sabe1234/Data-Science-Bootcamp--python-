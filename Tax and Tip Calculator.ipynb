{
 "cells": [
  {
   "cell_type": "markdown",
   "metadata": {},
   "source": [
    "```\n",
    "check is $50\n",
    "tax rate is 8%\n",
    "tip rate 20%\n",
    "```"
   ]
  },
  {
   "cell_type": "code",
   "execution_count": 1,
   "metadata": {},
   "outputs": [],
   "source": [
    "# 1. Define variable\n",
    "# 2. Take check mult by tax rate\n",
    "# 3. Take check mult by tip rate\n",
    "# 4. Sum everything"
   ]
  },
  {
   "cell_type": "code",
   "execution_count": 2,
   "metadata": {},
   "outputs": [
    {
     "data": {
      "text/plain": [
       "64.0"
      ]
     },
     "execution_count": 2,
     "metadata": {},
     "output_type": "execute_result"
    }
   ],
   "source": [
    "#1 Define variable\n",
    "check = 50\n",
    "tax_rate = 0.08\n",
    "tip_rate = 0.20\n",
    "\n",
    "#2\n",
    "tax = check * tax_rate\n",
    "\n",
    "#3\n",
    "tip = check * tip_rate\n",
    "\n",
    "#4\n",
    "total = check + tax + tip\n",
    "\n",
    "total"
   ]
  },
  {
   "cell_type": "code",
   "execution_count": 3,
   "metadata": {},
   "outputs": [
    {
     "name": "stdout",
     "output_type": "stream",
     "text": [
      "How much is your meal? 45.00\n"
     ]
    }
   ],
   "source": [
    "check = input(\"How much is your meal? \")"
   ]
  },
  {
   "cell_type": "code",
   "execution_count": 4,
   "metadata": {},
   "outputs": [
    {
     "name": "stdout",
     "output_type": "stream",
     "text": [
      "How much is your meal? 45.00\n",
      "45.00 <class 'str'>\n"
     ]
    },
    {
     "data": {
      "text/plain": [
       "57.6"
      ]
     },
     "execution_count": 4,
     "metadata": {},
     "output_type": "execute_result"
    }
   ],
   "source": [
    "check = input(\"How much is your meal? \")\n",
    "\n",
    "print(check, type(check))\n",
    "check = float(check)\n",
    "\n",
    "#1 Define variable\n",
    "tax_rate = 0.08\n",
    "tip_rate = 0.20\n",
    "\n",
    "#2\n",
    "tax = check * tax_rate\n",
    "\n",
    "#3\n",
    "tip = check * tip_rate\n",
    "\n",
    "#4\n",
    "total = check + tax + tip\n",
    "\n",
    "total"
   ]
  },
  {
   "cell_type": "code",
   "execution_count": 5,
   "metadata": {},
   "outputs": [
    {
     "name": "stdout",
     "output_type": "stream",
     "text": [
      "How much is your meal?45.00\n",
      "45.00 <class 'str'>\n",
      "Your total is 57.6\n"
     ]
    }
   ],
   "source": [
    "check = input(\"How much is your meal?\")\n",
    "\n",
    "print(check, type(check))\n",
    "check = float(check)\n",
    "\n",
    "#1 Define variable\n",
    "tax_rate = 0.08\n",
    "tip_rate = 0.20\n",
    "\n",
    "#2\n",
    "tax = check * tax_rate\n",
    "\n",
    "#3\n",
    "tip = check * tip_rate\n",
    "\n",
    "#4\n",
    "total = check + tax + tip\n",
    "#print\n",
    "print(\"Your total is\", total)"
   ]
  },
  {
   "cell_type": "code",
   "execution_count": 6,
   "metadata": {},
   "outputs": [
    {
     "name": "stdout",
     "output_type": "stream",
     "text": [
      "Your total is $57.60\n"
     ]
    }
   ],
   "source": [
    "print(\"Your total is ${:.2f}\".format(total))"
   ]
  }
 ],
 "metadata": {
  "kernelspec": {
   "display_name": "Python 3 (ipykernel)",
   "language": "python",
   "name": "python3"
  },
  "language_info": {
   "codemirror_mode": {
    "name": "ipython",
    "version": 3
   },
   "file_extension": ".py",
   "mimetype": "text/x-python",
   "name": "python",
   "nbconvert_exporter": "python",
   "pygments_lexer": "ipython3",
   "version": "3.9.7"
  }
 },
 "nbformat": 4,
 "nbformat_minor": 4
}
