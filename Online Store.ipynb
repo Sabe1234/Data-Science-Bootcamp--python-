{
 "cells": [
  {
   "cell_type": "markdown",
   "metadata": {},
   "source": [
    "```\n",
    "price computer is $1200\n",
    "cell phone $800\n",
    "````"
   ]
  },
  {
   "cell_type": "code",
   "execution_count": 1,
   "metadata": {},
   "outputs": [],
   "source": [
    "# 1. Define prices of items as vars\n",
    "# 2. Ask a user how many computers user wants to buy\n",
    "# 3. Ask a user how many cell phones user wants to buy\n",
    "# 4. Get the total $ amt for computers - 2 * 1200 = 2400\n",
    "# 5. Get total amt for cell phones \n",
    "# 6. Add all amts and print total user should pay"
   ]
  },
  {
   "cell_type": "code",
   "execution_count": 6,
   "metadata": {},
   "outputs": [
    {
     "name": "stdout",
     "output_type": "stream",
     "text": [
      "How many computer would you like to purchase?2\n",
      "How many cell phones would you like to purchase?4\n",
      "Your total is 5600\n"
     ]
    }
   ],
   "source": [
    "#1\n",
    "price_computer = 1200\n",
    "price_cell_phones = 800\n",
    "\n",
    "\n",
    "#2\n",
    "amount_computer = input(\"How many computer would you like to purchase?\")\n",
    "amount_computer = int(amount_computer)\n",
    "\n",
    "#3\n",
    "amount_cell_phones = input(\"How many cell phones would you like to purchase?\")\n",
    "amount_cell_phones = int(amount_cell_phones)\n",
    "\n",
    "#4\n",
    "total_computers = amount_computer * price_computer\n",
    "\n",
    "#5\n",
    "total_cell_phones = amount_cell_phones * price_cell_phones\n",
    "\n",
    "#6\n",
    "\n",
    "total = total_computers + total_cell_phones\n",
    "print(\"Your total is\", total)"
   ]
  },
  {
   "cell_type": "code",
   "execution_count": 4,
   "metadata": {},
   "outputs": [],
   "source": [
    "#4\n",
    "total_computer = 2 * price_computer"
   ]
  },
  {
   "cell_type": "code",
   "execution_count": 5,
   "metadata": {},
   "outputs": [
    {
     "data": {
      "text/plain": [
       "2400"
      ]
     },
     "execution_count": 5,
     "metadata": {},
     "output_type": "execute_result"
    }
   ],
   "source": [
    "total_computer"
   ]
  },
  {
   "cell_type": "code",
   "execution_count": 8,
   "metadata": {},
   "outputs": [],
   "source": [
    "#5\n",
    "total_cell_phones = 4 * price_cell_phones"
   ]
  },
  {
   "cell_type": "code",
   "execution_count": 9,
   "metadata": {},
   "outputs": [
    {
     "data": {
      "text/plain": [
       "3200"
      ]
     },
     "execution_count": 9,
     "metadata": {},
     "output_type": "execute_result"
    }
   ],
   "source": [
    "total_cell_phones"
   ]
  },
  {
   "cell_type": "code",
   "execution_count": 10,
   "metadata": {},
   "outputs": [],
   "source": [
    "total = total_computer + total_cell_phones"
   ]
  },
  {
   "cell_type": "code",
   "execution_count": 11,
   "metadata": {},
   "outputs": [
    {
     "data": {
      "text/plain": [
       "5600"
      ]
     },
     "execution_count": 11,
     "metadata": {},
     "output_type": "execute_result"
    }
   ],
   "source": [
    "total"
   ]
  }
 ],
 "metadata": {
  "kernelspec": {
   "display_name": "Python 3 (ipykernel)",
   "language": "python",
   "name": "python3"
  },
  "language_info": {
   "codemirror_mode": {
    "name": "ipython",
    "version": 3
   },
   "file_extension": ".py",
   "mimetype": "text/x-python",
   "name": "python",
   "nbconvert_exporter": "python",
   "pygments_lexer": "ipython3",
   "version": "3.9.7"
  }
 },
 "nbformat": 4,
 "nbformat_minor": 4
}
