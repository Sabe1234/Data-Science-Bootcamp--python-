{
 "cells": [
  {
   "cell_type": "markdown",
   "metadata": {},
   "source": [
    "1. Two products: Widgets(75g) and Gizmos(112g)\n",
    "2. Write program that reads # of widgets \n",
    "3. and # of gizmos\n",
    "5. Compute and display total weight of the order"
   ]
  },
  {
   "cell_type": "code",
   "execution_count": 1,
   "metadata": {},
   "outputs": [],
   "source": [
    "#1\n",
    "weight_of_widgets = 75\n",
    "weight_of_gizmos = 112\n"
   ]
  },
  {
   "cell_type": "code",
   "execution_count": 2,
   "metadata": {},
   "outputs": [
    {
     "name": "stdout",
     "output_type": "stream",
     "text": [
      "How many widgets would you like?2\n"
     ]
    }
   ],
   "source": [
    "#2\n",
    "number_of_widgets = input(\"How many widgets would you like?\")\n",
    "number_of_widgets = int(number_of_widgets)\n"
   ]
  },
  {
   "cell_type": "code",
   "execution_count": 3,
   "metadata": {},
   "outputs": [
    {
     "name": "stdout",
     "output_type": "stream",
     "text": [
      "How many gizmos would you like?4\n"
     ]
    }
   ],
   "source": [
    "#3\n",
    "number_of_gizmos = input(\"How many gizmos would you like?\")\n",
    "number_of_gizmos = int(number_of_gizmos)\n"
   ]
  },
  {
   "cell_type": "code",
   "execution_count": 4,
   "metadata": {},
   "outputs": [],
   "source": [
    "#4\n",
    "total_weight_of_widgets = weight_of_widgets * number_of_widgets"
   ]
  },
  {
   "cell_type": "code",
   "execution_count": 5,
   "metadata": {},
   "outputs": [],
   "source": [
    "#5\n",
    "total_weight_of_gizmos = weight_of_gizmos * number_of_gizmos"
   ]
  },
  {
   "cell_type": "code",
   "execution_count": 6,
   "metadata": {},
   "outputs": [],
   "source": [
    "#6\n",
    "total_number = total_weight_of_widgets + total_weight_of_gizmos"
   ]
  },
  {
   "cell_type": "code",
   "execution_count": 7,
   "metadata": {},
   "outputs": [
    {
     "name": "stdout",
     "output_type": "stream",
     "text": [
      "Your total is 598\n"
     ]
    }
   ],
   "source": [
    "print(\"Your total is\", total_number)"
   ]
  },
  {
   "cell_type": "code",
   "execution_count": 8,
   "metadata": {},
   "outputs": [
    {
     "name": "stdout",
     "output_type": "stream",
     "text": [
      "Your total is 598 g\n"
     ]
    }
   ],
   "source": [
    "print(\"Your total is {} g\".format(total_number))"
   ]
  }
 ],
 "metadata": {
  "kernelspec": {
   "display_name": "Python 3 (ipykernel)",
   "language": "python",
   "name": "python3"
  },
  "language_info": {
   "codemirror_mode": {
    "name": "ipython",
    "version": 3
   },
   "file_extension": ".py",
   "mimetype": "text/x-python",
   "name": "python",
   "nbconvert_exporter": "python",
   "pygments_lexer": "ipython3",
   "version": "3.9.7"
  }
 },
 "nbformat": 4,
 "nbformat_minor": 4
}
